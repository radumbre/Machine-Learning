{
 "cells": [
  {
   "cell_type": "code",
   "execution_count": 117,
   "id": "03f8f89f",
   "metadata": {},
   "outputs": [],
   "source": [
    "###Goal is to create a model which will be able to predict all positive class as positive only."
   ]
  },
  {
   "cell_type": "code",
   "execution_count": 116,
   "id": "7de2c4e2",
   "metadata": {},
   "outputs": [],
   "source": [
    "import pandas as pd\n",
    "import numpy as np\n",
    "import matplotlib.pyplot as plt\n",
    "import seaborn as sns\n",
    "%matplotlib inline"
   ]
  },
  {
   "cell_type": "code",
   "execution_count": 69,
   "id": "0bb99f4e",
   "metadata": {},
   "outputs": [],
   "source": [
    "df = pd.read_csv('claimants.csv')"
   ]
  },
  {
   "cell_type": "code",
   "execution_count": 70,
   "id": "77e30338",
   "metadata": {},
   "outputs": [
    {
     "data": {
      "text/html": [
       "<div>\n",
       "<style scoped>\n",
       "    .dataframe tbody tr th:only-of-type {\n",
       "        vertical-align: middle;\n",
       "    }\n",
       "\n",
       "    .dataframe tbody tr th {\n",
       "        vertical-align: top;\n",
       "    }\n",
       "\n",
       "    .dataframe thead th {\n",
       "        text-align: right;\n",
       "    }\n",
       "</style>\n",
       "<table border=\"1\" class=\"dataframe\">\n",
       "  <thead>\n",
       "    <tr style=\"text-align: right;\">\n",
       "      <th></th>\n",
       "      <th>CASENUM</th>\n",
       "      <th>ATTORNEY</th>\n",
       "      <th>CLMSEX</th>\n",
       "      <th>CLMINSUR</th>\n",
       "      <th>SEATBELT</th>\n",
       "      <th>CLMAGE</th>\n",
       "      <th>LOSS</th>\n",
       "    </tr>\n",
       "  </thead>\n",
       "  <tbody>\n",
       "    <tr>\n",
       "      <th>0</th>\n",
       "      <td>5</td>\n",
       "      <td>0</td>\n",
       "      <td>0.0</td>\n",
       "      <td>1.0</td>\n",
       "      <td>0.0</td>\n",
       "      <td>50.0</td>\n",
       "      <td>34.940</td>\n",
       "    </tr>\n",
       "    <tr>\n",
       "      <th>1</th>\n",
       "      <td>3</td>\n",
       "      <td>1</td>\n",
       "      <td>1.0</td>\n",
       "      <td>0.0</td>\n",
       "      <td>0.0</td>\n",
       "      <td>18.0</td>\n",
       "      <td>0.891</td>\n",
       "    </tr>\n",
       "    <tr>\n",
       "      <th>2</th>\n",
       "      <td>66</td>\n",
       "      <td>1</td>\n",
       "      <td>0.0</td>\n",
       "      <td>1.0</td>\n",
       "      <td>0.0</td>\n",
       "      <td>5.0</td>\n",
       "      <td>0.330</td>\n",
       "    </tr>\n",
       "    <tr>\n",
       "      <th>3</th>\n",
       "      <td>70</td>\n",
       "      <td>0</td>\n",
       "      <td>0.0</td>\n",
       "      <td>1.0</td>\n",
       "      <td>1.0</td>\n",
       "      <td>31.0</td>\n",
       "      <td>0.037</td>\n",
       "    </tr>\n",
       "    <tr>\n",
       "      <th>4</th>\n",
       "      <td>96</td>\n",
       "      <td>1</td>\n",
       "      <td>0.0</td>\n",
       "      <td>1.0</td>\n",
       "      <td>0.0</td>\n",
       "      <td>30.0</td>\n",
       "      <td>0.038</td>\n",
       "    </tr>\n",
       "    <tr>\n",
       "      <th>...</th>\n",
       "      <td>...</td>\n",
       "      <td>...</td>\n",
       "      <td>...</td>\n",
       "      <td>...</td>\n",
       "      <td>...</td>\n",
       "      <td>...</td>\n",
       "      <td>...</td>\n",
       "    </tr>\n",
       "    <tr>\n",
       "      <th>1335</th>\n",
       "      <td>34100</td>\n",
       "      <td>1</td>\n",
       "      <td>0.0</td>\n",
       "      <td>1.0</td>\n",
       "      <td>0.0</td>\n",
       "      <td>NaN</td>\n",
       "      <td>0.576</td>\n",
       "    </tr>\n",
       "    <tr>\n",
       "      <th>1336</th>\n",
       "      <td>34110</td>\n",
       "      <td>0</td>\n",
       "      <td>1.0</td>\n",
       "      <td>1.0</td>\n",
       "      <td>0.0</td>\n",
       "      <td>46.0</td>\n",
       "      <td>3.705</td>\n",
       "    </tr>\n",
       "    <tr>\n",
       "      <th>1337</th>\n",
       "      <td>34113</td>\n",
       "      <td>1</td>\n",
       "      <td>1.0</td>\n",
       "      <td>1.0</td>\n",
       "      <td>0.0</td>\n",
       "      <td>39.0</td>\n",
       "      <td>0.099</td>\n",
       "    </tr>\n",
       "    <tr>\n",
       "      <th>1338</th>\n",
       "      <td>34145</td>\n",
       "      <td>0</td>\n",
       "      <td>1.0</td>\n",
       "      <td>0.0</td>\n",
       "      <td>0.0</td>\n",
       "      <td>8.0</td>\n",
       "      <td>3.177</td>\n",
       "    </tr>\n",
       "    <tr>\n",
       "      <th>1339</th>\n",
       "      <td>34153</td>\n",
       "      <td>1</td>\n",
       "      <td>1.0</td>\n",
       "      <td>1.0</td>\n",
       "      <td>0.0</td>\n",
       "      <td>30.0</td>\n",
       "      <td>0.688</td>\n",
       "    </tr>\n",
       "  </tbody>\n",
       "</table>\n",
       "<p>1340 rows × 7 columns</p>\n",
       "</div>"
      ],
      "text/plain": [
       "      CASENUM  ATTORNEY  CLMSEX  CLMINSUR  SEATBELT  CLMAGE    LOSS\n",
       "0           5         0     0.0       1.0       0.0    50.0  34.940\n",
       "1           3         1     1.0       0.0       0.0    18.0   0.891\n",
       "2          66         1     0.0       1.0       0.0     5.0   0.330\n",
       "3          70         0     0.0       1.0       1.0    31.0   0.037\n",
       "4          96         1     0.0       1.0       0.0    30.0   0.038\n",
       "...       ...       ...     ...       ...       ...     ...     ...\n",
       "1335    34100         1     0.0       1.0       0.0     NaN   0.576\n",
       "1336    34110         0     1.0       1.0       0.0    46.0   3.705\n",
       "1337    34113         1     1.0       1.0       0.0    39.0   0.099\n",
       "1338    34145         0     1.0       0.0       0.0     8.0   3.177\n",
       "1339    34153         1     1.0       1.0       0.0    30.0   0.688\n",
       "\n",
       "[1340 rows x 7 columns]"
      ]
     },
     "execution_count": 70,
     "metadata": {},
     "output_type": "execute_result"
    }
   ],
   "source": [
    "df"
   ]
  },
  {
   "cell_type": "code",
   "execution_count": 71,
   "id": "2329d0aa",
   "metadata": {},
   "outputs": [],
   "source": [
    "df.drop(columns=['CASENUM'],inplace=True)"
   ]
  },
  {
   "cell_type": "code",
   "execution_count": 72,
   "id": "0bd01ccf",
   "metadata": {},
   "outputs": [
    {
     "data": {
      "text/html": [
       "<div>\n",
       "<style scoped>\n",
       "    .dataframe tbody tr th:only-of-type {\n",
       "        vertical-align: middle;\n",
       "    }\n",
       "\n",
       "    .dataframe tbody tr th {\n",
       "        vertical-align: top;\n",
       "    }\n",
       "\n",
       "    .dataframe thead th {\n",
       "        text-align: right;\n",
       "    }\n",
       "</style>\n",
       "<table border=\"1\" class=\"dataframe\">\n",
       "  <thead>\n",
       "    <tr style=\"text-align: right;\">\n",
       "      <th></th>\n",
       "      <th>ATTORNEY</th>\n",
       "      <th>CLMSEX</th>\n",
       "      <th>CLMINSUR</th>\n",
       "      <th>SEATBELT</th>\n",
       "      <th>CLMAGE</th>\n",
       "      <th>LOSS</th>\n",
       "    </tr>\n",
       "  </thead>\n",
       "  <tbody>\n",
       "    <tr>\n",
       "      <th>0</th>\n",
       "      <td>0</td>\n",
       "      <td>0.0</td>\n",
       "      <td>1.0</td>\n",
       "      <td>0.0</td>\n",
       "      <td>50.0</td>\n",
       "      <td>34.940</td>\n",
       "    </tr>\n",
       "    <tr>\n",
       "      <th>1</th>\n",
       "      <td>1</td>\n",
       "      <td>1.0</td>\n",
       "      <td>0.0</td>\n",
       "      <td>0.0</td>\n",
       "      <td>18.0</td>\n",
       "      <td>0.891</td>\n",
       "    </tr>\n",
       "    <tr>\n",
       "      <th>2</th>\n",
       "      <td>1</td>\n",
       "      <td>0.0</td>\n",
       "      <td>1.0</td>\n",
       "      <td>0.0</td>\n",
       "      <td>5.0</td>\n",
       "      <td>0.330</td>\n",
       "    </tr>\n",
       "    <tr>\n",
       "      <th>3</th>\n",
       "      <td>0</td>\n",
       "      <td>0.0</td>\n",
       "      <td>1.0</td>\n",
       "      <td>1.0</td>\n",
       "      <td>31.0</td>\n",
       "      <td>0.037</td>\n",
       "    </tr>\n",
       "    <tr>\n",
       "      <th>4</th>\n",
       "      <td>1</td>\n",
       "      <td>0.0</td>\n",
       "      <td>1.0</td>\n",
       "      <td>0.0</td>\n",
       "      <td>30.0</td>\n",
       "      <td>0.038</td>\n",
       "    </tr>\n",
       "  </tbody>\n",
       "</table>\n",
       "</div>"
      ],
      "text/plain": [
       "   ATTORNEY  CLMSEX  CLMINSUR  SEATBELT  CLMAGE    LOSS\n",
       "0         0     0.0       1.0       0.0    50.0  34.940\n",
       "1         1     1.0       0.0       0.0    18.0   0.891\n",
       "2         1     0.0       1.0       0.0     5.0   0.330\n",
       "3         0     0.0       1.0       1.0    31.0   0.037\n",
       "4         1     0.0       1.0       0.0    30.0   0.038"
      ]
     },
     "execution_count": 72,
     "metadata": {},
     "output_type": "execute_result"
    }
   ],
   "source": [
    "df.head()"
   ]
  },
  {
   "cell_type": "code",
   "execution_count": 73,
   "id": "21d33ee4",
   "metadata": {},
   "outputs": [
    {
     "data": {
      "text/plain": [
       "ATTORNEY      0\n",
       "CLMSEX       12\n",
       "CLMINSUR     41\n",
       "SEATBELT     48\n",
       "CLMAGE      189\n",
       "LOSS          0\n",
       "dtype: int64"
      ]
     },
     "execution_count": 73,
     "metadata": {},
     "output_type": "execute_result"
    }
   ],
   "source": [
    "df.isna().sum()"
   ]
  },
  {
   "cell_type": "code",
   "execution_count": 74,
   "id": "30a43349",
   "metadata": {},
   "outputs": [
    {
     "data": {
      "text/plain": [
       "(1340, 6)"
      ]
     },
     "execution_count": 74,
     "metadata": {},
     "output_type": "execute_result"
    }
   ],
   "source": [
    "df.shape"
   ]
  },
  {
   "cell_type": "code",
   "execution_count": 75,
   "id": "fe684aba",
   "metadata": {},
   "outputs": [
    {
     "data": {
      "text/plain": [
       "0       0.0\n",
       "1       1.0\n",
       "2       0.0\n",
       "3       0.0\n",
       "4       0.0\n",
       "       ... \n",
       "1335    0.0\n",
       "1336    1.0\n",
       "1337    1.0\n",
       "1338    1.0\n",
       "1339    1.0\n",
       "Name: CLMSEX, Length: 1340, dtype: float64"
      ]
     },
     "execution_count": 75,
     "metadata": {},
     "output_type": "execute_result"
    }
   ],
   "source": [
    "df['CLMSEX'].fillna(df['CLMSEX'].mode()[0])"
   ]
  },
  {
   "cell_type": "markdown",
   "id": "fec9b355",
   "metadata": {},
   "source": [
    "# Missing Value Imputation"
   ]
  },
  {
   "cell_type": "code",
   "execution_count": 76,
   "id": "e806ec76",
   "metadata": {},
   "outputs": [],
   "source": [
    "from sklearn.impute import SimpleImputer"
   ]
  },
  {
   "cell_type": "code",
   "execution_count": 77,
   "id": "60dc79e7",
   "metadata": {},
   "outputs": [],
   "source": [
    "si = SimpleImputer(strategy = 'most_frequent')"
   ]
  },
  {
   "cell_type": "code",
   "execution_count": 78,
   "id": "b93e53b4",
   "metadata": {},
   "outputs": [
    {
     "data": {
      "text/html": [
       "<div>\n",
       "<style scoped>\n",
       "    .dataframe tbody tr th:only-of-type {\n",
       "        vertical-align: middle;\n",
       "    }\n",
       "\n",
       "    .dataframe tbody tr th {\n",
       "        vertical-align: top;\n",
       "    }\n",
       "\n",
       "    .dataframe thead th {\n",
       "        text-align: right;\n",
       "    }\n",
       "</style>\n",
       "<table border=\"1\" class=\"dataframe\">\n",
       "  <thead>\n",
       "    <tr style=\"text-align: right;\">\n",
       "      <th></th>\n",
       "      <th>ATTORNEY</th>\n",
       "      <th>CLMSEX</th>\n",
       "      <th>CLMINSUR</th>\n",
       "      <th>SEATBELT</th>\n",
       "      <th>CLMAGE</th>\n",
       "      <th>LOSS</th>\n",
       "    </tr>\n",
       "  </thead>\n",
       "  <tbody>\n",
       "    <tr>\n",
       "      <th>0</th>\n",
       "      <td>0</td>\n",
       "      <td>0.0</td>\n",
       "      <td>1.0</td>\n",
       "      <td>0.0</td>\n",
       "      <td>50.0</td>\n",
       "      <td>34.940</td>\n",
       "    </tr>\n",
       "    <tr>\n",
       "      <th>1</th>\n",
       "      <td>1</td>\n",
       "      <td>1.0</td>\n",
       "      <td>0.0</td>\n",
       "      <td>0.0</td>\n",
       "      <td>18.0</td>\n",
       "      <td>0.891</td>\n",
       "    </tr>\n",
       "    <tr>\n",
       "      <th>2</th>\n",
       "      <td>1</td>\n",
       "      <td>0.0</td>\n",
       "      <td>1.0</td>\n",
       "      <td>0.0</td>\n",
       "      <td>5.0</td>\n",
       "      <td>0.330</td>\n",
       "    </tr>\n",
       "    <tr>\n",
       "      <th>3</th>\n",
       "      <td>0</td>\n",
       "      <td>0.0</td>\n",
       "      <td>1.0</td>\n",
       "      <td>1.0</td>\n",
       "      <td>31.0</td>\n",
       "      <td>0.037</td>\n",
       "    </tr>\n",
       "    <tr>\n",
       "      <th>4</th>\n",
       "      <td>1</td>\n",
       "      <td>0.0</td>\n",
       "      <td>1.0</td>\n",
       "      <td>0.0</td>\n",
       "      <td>30.0</td>\n",
       "      <td>0.038</td>\n",
       "    </tr>\n",
       "  </tbody>\n",
       "</table>\n",
       "</div>"
      ],
      "text/plain": [
       "   ATTORNEY  CLMSEX  CLMINSUR  SEATBELT  CLMAGE    LOSS\n",
       "0         0     0.0       1.0       0.0    50.0  34.940\n",
       "1         1     1.0       0.0       0.0    18.0   0.891\n",
       "2         1     0.0       1.0       0.0     5.0   0.330\n",
       "3         0     0.0       1.0       1.0    31.0   0.037\n",
       "4         1     0.0       1.0       0.0    30.0   0.038"
      ]
     },
     "execution_count": 78,
     "metadata": {},
     "output_type": "execute_result"
    }
   ],
   "source": [
    "df.head()"
   ]
  },
  {
   "cell_type": "code",
   "execution_count": 79,
   "id": "053d5f71",
   "metadata": {},
   "outputs": [],
   "source": [
    "df.iloc[:,1:4] = si.fit_transform(df.iloc[:,1:4])"
   ]
  },
  {
   "cell_type": "code",
   "execution_count": 80,
   "id": "70ab4bb1",
   "metadata": {},
   "outputs": [],
   "source": [
    "import warnings\n",
    "\n",
    "warnings.filterwarnings('ignore')"
   ]
  },
  {
   "cell_type": "code",
   "execution_count": 81,
   "id": "f7293692",
   "metadata": {},
   "outputs": [],
   "source": [
    "df.iloc[:,1:4] = si.fit_transform(df.iloc[:,1:4])"
   ]
  },
  {
   "cell_type": "code",
   "execution_count": 82,
   "id": "ac0ebfdd",
   "metadata": {},
   "outputs": [],
   "source": [
    "df['CLMAGE'].fillna(df['CLMAGE'].mean(),inplace = True)"
   ]
  },
  {
   "cell_type": "code",
   "execution_count": 83,
   "id": "495d2fae",
   "metadata": {},
   "outputs": [
    {
     "data": {
      "text/plain": [
       "ATTORNEY    0\n",
       "CLMSEX      0\n",
       "CLMINSUR    0\n",
       "SEATBELT    0\n",
       "CLMAGE      0\n",
       "LOSS        0\n",
       "dtype: int64"
      ]
     },
     "execution_count": 83,
     "metadata": {},
     "output_type": "execute_result"
    }
   ],
   "source": [
    "df.isna().sum()"
   ]
  },
  {
   "cell_type": "markdown",
   "id": "77f0d795",
   "metadata": {},
   "source": [
    "# Splitting the Data into Training And Testing Set"
   ]
  },
  {
   "cell_type": "code",
   "execution_count": 84,
   "id": "9ae6f177",
   "metadata": {},
   "outputs": [],
   "source": [
    "from sklearn.model_selection import train_test_split"
   ]
  },
  {
   "cell_type": "code",
   "execution_count": 85,
   "id": "824f080e",
   "metadata": {},
   "outputs": [],
   "source": [
    "x = df.iloc[:,1:]\n",
    "Y = df['ATTORNEY']"
   ]
  },
  {
   "cell_type": "code",
   "execution_count": 86,
   "id": "9e2220f9",
   "metadata": {},
   "outputs": [],
   "source": [
    "xtrain,xtest,ytrain,ytest = train_test_split(x,y,train_size = 0.75,random_state = 1)"
   ]
  },
  {
   "cell_type": "code",
   "execution_count": 87,
   "id": "aca3cc1b",
   "metadata": {
    "scrolled": false
   },
   "outputs": [
    {
     "data": {
      "text/html": [
       "<div>\n",
       "<style scoped>\n",
       "    .dataframe tbody tr th:only-of-type {\n",
       "        vertical-align: middle;\n",
       "    }\n",
       "\n",
       "    .dataframe tbody tr th {\n",
       "        vertical-align: top;\n",
       "    }\n",
       "\n",
       "    .dataframe thead th {\n",
       "        text-align: right;\n",
       "    }\n",
       "</style>\n",
       "<table border=\"1\" class=\"dataframe\">\n",
       "  <thead>\n",
       "    <tr style=\"text-align: right;\">\n",
       "      <th></th>\n",
       "      <th>CLMSEX</th>\n",
       "      <th>CLMINSUR</th>\n",
       "      <th>SEATBELT</th>\n",
       "      <th>CLMAGE</th>\n",
       "      <th>LOSS</th>\n",
       "    </tr>\n",
       "  </thead>\n",
       "  <tbody>\n",
       "    <tr>\n",
       "      <th>1045</th>\n",
       "      <td>1.0</td>\n",
       "      <td>1.0</td>\n",
       "      <td>0.0</td>\n",
       "      <td>37.000000</td>\n",
       "      <td>0.935</td>\n",
       "    </tr>\n",
       "    <tr>\n",
       "      <th>969</th>\n",
       "      <td>0.0</td>\n",
       "      <td>1.0</td>\n",
       "      <td>0.0</td>\n",
       "      <td>14.000000</td>\n",
       "      <td>10.869</td>\n",
       "    </tr>\n",
       "    <tr>\n",
       "      <th>594</th>\n",
       "      <td>1.0</td>\n",
       "      <td>1.0</td>\n",
       "      <td>0.0</td>\n",
       "      <td>43.000000</td>\n",
       "      <td>0.007</td>\n",
       "    </tr>\n",
       "    <tr>\n",
       "      <th>1081</th>\n",
       "      <td>1.0</td>\n",
       "      <td>1.0</td>\n",
       "      <td>0.0</td>\n",
       "      <td>77.000000</td>\n",
       "      <td>1.000</td>\n",
       "    </tr>\n",
       "    <tr>\n",
       "      <th>1053</th>\n",
       "      <td>1.0</td>\n",
       "      <td>1.0</td>\n",
       "      <td>0.0</td>\n",
       "      <td>58.000000</td>\n",
       "      <td>9.485</td>\n",
       "    </tr>\n",
       "    <tr>\n",
       "      <th>...</th>\n",
       "      <td>...</td>\n",
       "      <td>...</td>\n",
       "      <td>...</td>\n",
       "      <td>...</td>\n",
       "      <td>...</td>\n",
       "    </tr>\n",
       "    <tr>\n",
       "      <th>715</th>\n",
       "      <td>0.0</td>\n",
       "      <td>1.0</td>\n",
       "      <td>0.0</td>\n",
       "      <td>13.000000</td>\n",
       "      <td>6.979</td>\n",
       "    </tr>\n",
       "    <tr>\n",
       "      <th>905</th>\n",
       "      <td>0.0</td>\n",
       "      <td>1.0</td>\n",
       "      <td>0.0</td>\n",
       "      <td>28.414422</td>\n",
       "      <td>3.330</td>\n",
       "    </tr>\n",
       "    <tr>\n",
       "      <th>1096</th>\n",
       "      <td>0.0</td>\n",
       "      <td>1.0</td>\n",
       "      <td>0.0</td>\n",
       "      <td>50.000000</td>\n",
       "      <td>3.095</td>\n",
       "    </tr>\n",
       "    <tr>\n",
       "      <th>235</th>\n",
       "      <td>1.0</td>\n",
       "      <td>1.0</td>\n",
       "      <td>0.0</td>\n",
       "      <td>17.000000</td>\n",
       "      <td>1.619</td>\n",
       "    </tr>\n",
       "    <tr>\n",
       "      <th>1061</th>\n",
       "      <td>1.0</td>\n",
       "      <td>1.0</td>\n",
       "      <td>0.0</td>\n",
       "      <td>47.000000</td>\n",
       "      <td>0.480</td>\n",
       "    </tr>\n",
       "  </tbody>\n",
       "</table>\n",
       "<p>1005 rows × 5 columns</p>\n",
       "</div>"
      ],
      "text/plain": [
       "      CLMSEX  CLMINSUR  SEATBELT     CLMAGE    LOSS\n",
       "1045     1.0       1.0       0.0  37.000000   0.935\n",
       "969      0.0       1.0       0.0  14.000000  10.869\n",
       "594      1.0       1.0       0.0  43.000000   0.007\n",
       "1081     1.0       1.0       0.0  77.000000   1.000\n",
       "1053     1.0       1.0       0.0  58.000000   9.485\n",
       "...      ...       ...       ...        ...     ...\n",
       "715      0.0       1.0       0.0  13.000000   6.979\n",
       "905      0.0       1.0       0.0  28.414422   3.330\n",
       "1096     0.0       1.0       0.0  50.000000   3.095\n",
       "235      1.0       1.0       0.0  17.000000   1.619\n",
       "1061     1.0       1.0       0.0  47.000000   0.480\n",
       "\n",
       "[1005 rows x 5 columns]"
      ]
     },
     "execution_count": 87,
     "metadata": {},
     "output_type": "execute_result"
    }
   ],
   "source": [
    "xtrain"
   ]
  },
  {
   "cell_type": "code",
   "execution_count": 88,
   "id": "462812fd",
   "metadata": {},
   "outputs": [
    {
     "data": {
      "text/plain": [
       "1045    1\n",
       "969     0\n",
       "594     1\n",
       "1081    1\n",
       "1053    0\n",
       "       ..\n",
       "715     1\n",
       "905     1\n",
       "1096    0\n",
       "235     0\n",
       "1061    1\n",
       "Name: ATTORNEY, Length: 1005, dtype: int64"
      ]
     },
     "execution_count": 88,
     "metadata": {},
     "output_type": "execute_result"
    }
   ],
   "source": [
    "ytrain"
   ]
  },
  {
   "cell_type": "markdown",
   "id": "c6002d9b",
   "metadata": {},
   "source": [
    "# Model Building"
   ]
  },
  {
   "cell_type": "code",
   "execution_count": 89,
   "id": "320c41e0",
   "metadata": {},
   "outputs": [],
   "source": [
    "from sklearn.model_selection import train_test_split"
   ]
  },
  {
   "cell_type": "code",
   "execution_count": 90,
   "id": "1c5eb3c8",
   "metadata": {},
   "outputs": [],
   "source": [
    "lg = LogisticRegression()"
   ]
  },
  {
   "cell_type": "code",
   "execution_count": 91,
   "id": "1cc3985f",
   "metadata": {
    "scrolled": false
   },
   "outputs": [],
   "source": [
    "#Train the model\n",
    "lg.fit(xtrain,ytrain)\n",
    "# Prediction\n",
    "ypred = lg.predict(xtest)"
   ]
  },
  {
   "cell_type": "code",
   "execution_count": 92,
   "id": "5686abf8",
   "metadata": {},
   "outputs": [
    {
     "data": {
      "text/plain": [
       "335"
      ]
     },
     "execution_count": 92,
     "metadata": {},
     "output_type": "execute_result"
    }
   ],
   "source": [
    "len(xtest)"
   ]
  },
  {
   "cell_type": "code",
   "execution_count": 94,
   "id": "62f0baa8",
   "metadata": {},
   "outputs": [
    {
     "data": {
      "text/plain": [
       "335"
      ]
     },
     "execution_count": 94,
     "metadata": {},
     "output_type": "execute_result"
    }
   ],
   "source": [
    "len(ypred)"
   ]
  },
  {
   "cell_type": "markdown",
   "id": "3f005677",
   "metadata": {},
   "source": [
    "# Model Evaluation"
   ]
  },
  {
   "cell_type": "code",
   "execution_count": 95,
   "id": "97015f37",
   "metadata": {},
   "outputs": [
    {
     "name": "stdout",
     "output_type": "stream",
     "text": [
      "Actual Y [1 1 1 1 0 1 0 0 1 0 0 0 1 0 0 1 0 0 1 1 1 1 0 1 1]\n",
      "Predict y  [1 1 1 1 0 1 1 0 1 1 1 1 1 0 1 0 1 1 1 1 1 1 0 1 1]\n"
     ]
    }
   ],
   "source": [
    "print('Actual Y',ytest[:25].values)\n",
    "print('Predict y ',ypred[:25])"
   ]
  },
  {
   "cell_type": "code",
   "execution_count": 96,
   "id": "b6d3c684",
   "metadata": {},
   "outputs": [],
   "source": [
    "from sklearn.metrics import classification_report,confusion_matrix"
   ]
  },
  {
   "cell_type": "code",
   "execution_count": 97,
   "id": "ce9e1d4b",
   "metadata": {},
   "outputs": [
    {
     "name": "stdout",
     "output_type": "stream",
     "text": [
      "              precision    recall  f1-score   support\n",
      "\n",
      "           0       0.71      0.57      0.64       166\n",
      "           1       0.65      0.78      0.71       169\n",
      "\n",
      "    accuracy                           0.67       335\n",
      "   macro avg       0.68      0.67      0.67       335\n",
      "weighted avg       0.68      0.67      0.67       335\n",
      "\n"
     ]
    }
   ],
   "source": [
    "print(classification_report(ytest,ypred))"
   ]
  },
  {
   "cell_type": "code",
   "execution_count": 98,
   "id": "fb8416d2",
   "metadata": {},
   "outputs": [
    {
     "data": {
      "text/plain": [
       "array([[ 95,  71],\n",
       "       [ 38, 131]], dtype=int64)"
      ]
     },
     "execution_count": 98,
     "metadata": {},
     "output_type": "execute_result"
    }
   ],
   "source": [
    "confusion_matrix(ytest,ypred)"
   ]
  },
  {
   "cell_type": "code",
   "execution_count": 99,
   "id": "f8ed7ab7",
   "metadata": {},
   "outputs": [
    {
     "data": {
      "text/plain": [
       "Text(33.0, 0.5, 'Predicted Values')"
      ]
     },
     "execution_count": 99,
     "metadata": {},
     "output_type": "execute_result"
    },
    {
     "data": {
      "image/png": "[encoded data removed]",
      "text/plain": [
       "<Figure size 432x288 with 2 Axes>"
      ]
     },
     "metadata": {
      "needs_background": "light"
     },
     "output_type": "display_data"
    }
   ],
   "source": [
    "sns.heatmap(confusion_matrix(ytest,ypred), annot=True)\n",
    "plt.xlabel('Actual Values')\n",
    "plt.ylabel('Predicted Values')"
   ]
  },
  {
   "cell_type": "code",
   "execution_count": 100,
   "id": "df5dd062",
   "metadata": {},
   "outputs": [
    {
     "name": "stdout",
     "output_type": "stream",
     "text": [
      "[1 1 1 1 0 1 0 0 1 0 0 0 1 0 0 1 0 0 1 1 1 1 0 1 1]\n",
      "[1 1 1 1 0 1 1 0 1 1 1 1 1 0 1 0 1 1 1 1 1 1 0 1 1]\n"
     ]
    }
   ],
   "source": [
    "print(ytest[:25].values)\n",
    "print(ypred[:25])"
   ]
  },
  {
   "cell_type": "markdown",
   "id": "a5933afb",
   "metadata": {},
   "source": [
    "# Threshold Selection"
   ]
  },
  {
   "cell_type": "code",
   "execution_count": 101,
   "id": "c178d98d",
   "metadata": {},
   "outputs": [
    {
     "data": {
      "text/plain": [
       "array([6.95474687e-01, 6.81222965e-01, 5.56325856e-01, 6.10782665e-01,\n",
       "       4.07306163e-01, 6.30436835e-01, 6.99612959e-01, 4.53074888e-01,\n",
       "       6.61819654e-01, 6.68722174e-01, 5.57718915e-01, 6.13249905e-01,\n",
       "       6.09440083e-01, 4.08879739e-01, 6.64473263e-01, 4.27543135e-01,\n",
       "       5.66276755e-01, 5.42119411e-01, 6.45522258e-01, 6.68607233e-01,\n",
       "       6.82767318e-01, 5.91165710e-01, 3.77097826e-01, 5.89589869e-01,\n",
       "       5.98485988e-01, 6.36447194e-01, 7.02407491e-01, 6.22359252e-01,\n",
       "       6.00387856e-01, 6.78857526e-01, 5.90164039e-01, 6.35606600e-01,\n",
       "       5.59760735e-01, 2.67972615e-01, 2.49420667e-01, 6.08899659e-01,\n",
       "       3.55462375e-01, 4.57404384e-01, 6.49067313e-01, 6.90488119e-01,\n",
       "       6.78473920e-01, 1.30621290e-04, 5.01021195e-01, 5.29665826e-01,\n",
       "       5.66088246e-01, 3.98058588e-01, 7.22772008e-01, 6.76462362e-01,\n",
       "       6.23770256e-01, 5.85369463e-01, 5.74772412e-01, 6.78796820e-01,\n",
       "       6.82022490e-01, 5.77717948e-01, 5.49517634e-01, 6.30350371e-01,\n",
       "       2.63504826e-01, 6.52804175e-01, 1.71595192e-01, 6.53765992e-01,\n",
       "       4.21247710e-01, 3.62781812e-01, 6.30436835e-01, 8.81759304e-02,\n",
       "       4.03955473e-01, 1.42953019e-01, 6.55181199e-01, 1.22837368e-01,\n",
       "       4.67853371e-01, 1.48338802e-01, 2.52519276e-01, 3.49051508e-01,\n",
       "       6.80156503e-01, 5.85202986e-01, 3.62739367e-01, 6.90686061e-01,\n",
       "       1.39762216e-01, 6.64250932e-01, 6.79359308e-01, 7.11562636e-01,\n",
       "       6.77970246e-01, 5.36240603e-01, 3.39078667e-01, 5.03171513e-01,\n",
       "       5.82693127e-01, 4.99206521e-01, 2.20654857e-01, 3.01829974e-01,\n",
       "       6.96807620e-01, 9.35862166e-02, 6.37894597e-01, 6.23243843e-01,\n",
       "       3.33436878e-01, 6.91451097e-01, 5.57951110e-01, 6.55603382e-01,\n",
       "       6.32991972e-01, 3.91194771e-01, 3.76263477e-01, 3.28030019e-01,\n",
       "       3.44315311e-01, 4.02265025e-01, 4.13766227e-01, 5.09228479e-01,\n",
       "       4.27805795e-01, 3.09496406e-01, 5.92354309e-01, 7.17784690e-01,\n",
       "       4.70225802e-01, 2.57490927e-01, 8.78093881e-05, 6.77102766e-01,\n",
       "       5.97728725e-01, 6.43782466e-01, 3.57207478e-01, 4.12778105e-01,\n",
       "       5.22989229e-01, 6.79487720e-01, 6.65820275e-01, 6.73760905e-01,\n",
       "       1.95775622e-01, 6.14157064e-01, 6.46709043e-01, 5.14126044e-01,\n",
       "       6.01703736e-01, 6.48645201e-01, 3.31310883e-01, 6.03174385e-01,\n",
       "       5.81068024e-01, 6.66042665e-01, 4.02120018e-02, 4.92709125e-01,\n",
       "       5.77630820e-01, 6.59677811e-01, 2.47947706e-01, 6.97795708e-01,\n",
       "       9.84009841e-02, 6.11625540e-01, 4.36153568e-01, 6.42966806e-01,\n",
       "       6.91588744e-01, 7.00150826e-01, 5.87505036e-01, 6.77926052e-01,\n",
       "       6.82022490e-01, 6.35225779e-01, 6.78832083e-01, 4.02103344e-01,\n",
       "       1.93653778e-01, 2.43462089e-01, 6.82827048e-01, 2.54005221e-01,\n",
       "       5.66205447e-09, 3.49237008e-01, 1.52574513e-12, 2.46175674e-01,\n",
       "       3.86631457e-01, 6.90199218e-01, 5.92862999e-01, 4.83882477e-01,\n",
       "       6.34427842e-01, 2.47322204e-01, 6.18144091e-01, 2.30633669e-02,\n",
       "       5.59858090e-01, 4.45653897e-01, 4.06043274e-01, 6.41232062e-01,\n",
       "       6.97987842e-01, 5.84144092e-01, 3.85694455e-01, 6.07865625e-01,\n",
       "       9.69343830e-02, 6.35714524e-01, 5.62585853e-01, 6.60435851e-01,\n",
       "       5.76612390e-01, 6.15687877e-01, 6.68607233e-01, 6.22151941e-01,\n",
       "       5.77756703e-01, 7.16361534e-01, 5.90803819e-01, 3.45182755e-01,\n",
       "       5.84020669e-01, 3.30251775e-01, 6.01865930e-01, 5.85957181e-01,\n",
       "       6.50573657e-01, 4.95765077e-01, 6.72603422e-01, 6.77580106e-01,\n",
       "       4.29454284e-01, 6.66329653e-01, 6.45768377e-01, 2.68833124e-01,\n",
       "       4.29711857e-01, 2.58668685e-01, 5.52782710e-01, 4.39640356e-01,\n",
       "       5.71661767e-01, 6.80157083e-01, 6.84990114e-01, 6.72233290e-01,\n",
       "       4.40413550e-01, 6.18590323e-01, 7.16402660e-01, 4.59307435e-01,\n",
       "       3.03122336e-01, 5.18039434e-01, 6.44055307e-01, 7.06145868e-01,\n",
       "       1.08887650e-01, 6.17889143e-01, 6.74494708e-01, 5.42789645e-01,\n",
       "       4.61392660e-01, 5.78680703e-01, 6.84668457e-01, 6.01805995e-01,\n",
       "       4.74665164e-01, 5.72434464e-01, 5.76229313e-01, 7.00456742e-01,\n",
       "       3.81348380e-01, 6.48662511e-01, 3.49665329e-01, 2.92942669e-05,\n",
       "       6.22359252e-01, 7.40766625e-01, 5.84619193e-01, 5.65156086e-01,\n",
       "       6.11919454e-01, 2.58739542e-01, 2.83213785e-01, 6.58746705e-01,\n",
       "       6.91202110e-01, 5.77949576e-01, 3.96036054e-01, 5.57931979e-01,\n",
       "       6.44482757e-01, 6.47428489e-01, 4.84836841e-01, 6.23005163e-01,\n",
       "       1.43694196e-01, 4.14441477e-01, 4.87220030e-01, 4.66583829e-01,\n",
       "       5.68354825e-01, 4.05072247e-01, 1.92619240e-08, 5.64600821e-01,\n",
       "       3.34266445e-01, 4.10089947e-01, 3.63368267e-01, 5.01012155e-01,\n",
       "       4.30904752e-01, 6.64066988e-01, 4.26413865e-01, 4.31088271e-01,\n",
       "       1.60360242e-01, 6.11234736e-01, 3.45191093e-01, 6.42060699e-01,\n",
       "       5.88677120e-01, 5.74192630e-01, 1.08152040e-15, 6.47910759e-01,\n",
       "       4.27556191e-01, 3.30338343e-01, 6.83718655e-01, 4.62392798e-01,\n",
       "       6.21314959e-01, 5.07456933e-01, 5.29622898e-01, 5.58711819e-01,\n",
       "       6.70247584e-01, 2.41253594e-01, 4.15893450e-01, 3.67610034e-01,\n",
       "       6.01870427e-11, 1.83485823e-01, 6.36060807e-01, 6.56381369e-01,\n",
       "       1.68715000e-01, 6.60842104e-01, 6.36103571e-01, 2.19372799e-01,\n",
       "       3.71194597e-01, 6.21017352e-01, 5.31790453e-01, 2.36318932e-01,\n",
       "       7.12599775e-01, 7.02407491e-01, 6.26186526e-01, 6.19917892e-01,\n",
       "       6.85698440e-01, 5.78211682e-01, 1.40976903e-09, 6.01813459e-01,\n",
       "       6.04321853e-01, 3.04596062e-01, 7.21998064e-01, 6.45697554e-01,\n",
       "       5.67136841e-01, 3.85913260e-01, 4.48623972e-01, 1.82684305e-01,\n",
       "       3.62291042e-07, 5.12269528e-01, 9.29814649e-02, 6.11607115e-01,\n",
       "       5.80690077e-01, 3.97017069e-01, 5.64836765e-01, 5.65675850e-01,\n",
       "       6.64061856e-01, 6.78614665e-01, 1.67868101e-02, 4.10312330e-01,\n",
       "       4.11215614e-01, 6.85695779e-01, 5.74264377e-01, 3.63571591e-01,\n",
       "       2.33717507e-01, 3.80581468e-01, 3.00828196e-01, 6.97154476e-01,\n",
       "       2.93871620e-11, 3.57682336e-01, 6.42500783e-01, 7.14625541e-01,\n",
       "       4.31433505e-01, 6.21547660e-01, 6.99908981e-01])"
      ]
     },
     "execution_count": 101,
     "metadata": {},
     "output_type": "execute_result"
    }
   ],
   "source": [
    "proba = lg.predict_proba(xtest)[:,1]\n",
    "proba"
   ]
  },
  {
   "cell_type": "code",
   "execution_count": 102,
   "id": "318505e6",
   "metadata": {},
   "outputs": [],
   "source": [
    "from sklearn.metrics import roc_auc_score, roc_curve, accuracy_score\n"
   ]
  },
  {
   "cell_type": "code",
   "execution_count": 103,
   "id": "ea08cc7c",
   "metadata": {},
   "outputs": [
    {
     "data": {
      "text/plain": [
       "<matplotlib.legend.Legend at 0x1df16137850>"
      ]
     },
     "execution_count": 103,
     "metadata": {},
     "output_type": "execute_result"
    },
    {
     "data": {
      "image/png": "[encoded data removed]",
      "text/plain": [
       "<Figure size 432x288 with 1 Axes>"
      ]
     },
     "metadata": {
      "needs_background": "light"
     },
     "output_type": "display_data"
    }
   ],
   "source": [
    "auc = roc_auc_score(ytest,proba)\n",
    "\n",
    "fpr,tpr, threshold = roc_curve(ytest,proba)\n",
    "\n",
    "plt.plot(fpr,tpr,label = '(AUC = %0.2f)'%auc)\n",
    "plt.legend()"
   ]
  },
  {
   "cell_type": "code",
   "execution_count": 104,
   "id": "2596f291",
   "metadata": {},
   "outputs": [
    {
     "data": {
      "text/plain": [
       "0.7413381335994867"
      ]
     },
     "execution_count": 104,
     "metadata": {},
     "output_type": "execute_result"
    }
   ],
   "source": [
    "auc"
   ]
  },
  {
   "cell_type": "code",
   "execution_count": 105,
   "id": "5939f8d5",
   "metadata": {},
   "outputs": [
    {
     "data": {
      "text/plain": [
       "array([1.74076663e+00, 7.40766625e-01, 7.06145868e-01, 7.02407491e-01,\n",
       "       7.00456742e-01, 6.99908981e-01, 6.99612959e-01, 6.91451097e-01,\n",
       "       6.90488119e-01, 6.82767318e-01, 6.82022490e-01, 6.78857526e-01,\n",
       "       6.78832083e-01, 6.78796820e-01, 6.77970246e-01, 6.77580106e-01,\n",
       "       6.77102766e-01, 6.76462362e-01, 6.73760905e-01, 6.70247584e-01,\n",
       "       6.68722174e-01, 6.68607233e-01, 6.66329653e-01, 6.66042665e-01,\n",
       "       6.65820275e-01, 6.64473263e-01, 6.64250932e-01, 6.64061856e-01,\n",
       "       6.55181199e-01, 6.53765992e-01, 6.50573657e-01, 6.48662511e-01,\n",
       "       6.48645201e-01, 6.47910759e-01, 6.45768377e-01, 6.45697554e-01,\n",
       "       6.42500783e-01, 6.42060699e-01, 6.41232062e-01, 6.37894597e-01,\n",
       "       6.36103571e-01, 6.35714524e-01, 6.35225779e-01, 6.32991972e-01,\n",
       "       6.30436835e-01, 6.26186526e-01, 6.23770256e-01, 6.23005163e-01,\n",
       "       6.22359252e-01, 6.21547660e-01, 6.21314959e-01, 6.21017352e-01,\n",
       "       6.19917892e-01, 6.18144091e-01, 6.14157064e-01, 6.13249905e-01,\n",
       "       6.11625540e-01, 6.11607115e-01, 6.07865625e-01, 6.04321853e-01,\n",
       "       6.01865930e-01, 6.01813459e-01, 6.01805995e-01, 6.01703736e-01,\n",
       "       5.92862999e-01, 5.92354309e-01, 5.89589869e-01, 5.87505036e-01,\n",
       "       5.85957181e-01, 5.85369463e-01, 5.84020669e-01, 5.82693127e-01,\n",
       "       5.77756703e-01, 5.77717948e-01, 5.77630820e-01, 5.76229313e-01,\n",
       "       5.74264377e-01, 5.72434464e-01, 5.71661767e-01, 5.68354825e-01,\n",
       "       5.67136841e-01, 5.66088246e-01, 5.64836765e-01, 5.64600821e-01,\n",
       "       5.57951110e-01, 5.57718915e-01, 5.56325856e-01, 5.12269528e-01,\n",
       "       5.09228479e-01, 5.03171513e-01, 5.01021195e-01, 4.87220030e-01,\n",
       "       4.83882477e-01, 4.74665164e-01, 4.70225802e-01, 4.62392798e-01,\n",
       "       4.57404384e-01, 4.53074888e-01, 4.48623972e-01, 4.40413550e-01,\n",
       "       4.36153568e-01, 4.30904752e-01, 4.29454284e-01, 4.27805795e-01,\n",
       "       4.27543135e-01, 4.15893450e-01, 4.14441477e-01, 4.13766227e-01,\n",
       "       4.12778105e-01, 4.10312330e-01, 4.10089947e-01, 4.06043274e-01,\n",
       "       4.02265025e-01, 3.96036054e-01, 3.91194771e-01, 3.85694455e-01,\n",
       "       3.81348380e-01, 3.77097826e-01, 3.76263477e-01, 3.63571591e-01,\n",
       "       3.62739367e-01, 3.28030019e-01, 3.04596062e-01, 3.00828196e-01,\n",
       "       2.83213785e-01, 2.58668685e-01, 2.57490927e-01, 2.54005221e-01,\n",
       "       2.52519276e-01, 2.46175674e-01, 2.41253594e-01, 1.83485823e-01,\n",
       "       1.71595192e-01, 1.43694196e-01, 1.42953019e-01, 1.39762216e-01,\n",
       "       1.08887650e-01, 9.69343830e-02, 9.35862166e-02, 1.08152040e-15])"
      ]
     },
     "execution_count": 105,
     "metadata": {},
     "output_type": "execute_result"
    }
   ],
   "source": [
    "threshold"
   ]
  },
  {
   "cell_type": "code",
   "execution_count": 106,
   "id": "c511949e",
   "metadata": {},
   "outputs": [
    {
     "data": {
      "text/plain": [
       "140"
      ]
     },
     "execution_count": 106,
     "metadata": {},
     "output_type": "execute_result"
    }
   ],
   "source": [
    "len(threshold)"
   ]
  },
  {
   "cell_type": "code",
   "execution_count": 107,
   "id": "1b9a7e34",
   "metadata": {},
   "outputs": [],
   "source": [
    "accuracy = []\n",
    "\n",
    "for i in threshold:\n",
    "    ypred = np.where(proba>i,1,0)\n",
    "    accuracy.append(accuracy_score(ytest,ypred))\n",
    "    \n",
    "final_threshold = pd.concat([pd.Series(threshold),pd.Series(accuracy)],axis= 1)\n",
    "final_threshold.columns = ['Threshold','Accuracy']"
   ]
  },
  {
   "cell_type": "code",
   "execution_count": 110,
   "id": "18e0d46b",
   "metadata": {},
   "outputs": [
    {
     "data": {
      "text/html": [
       "<div>\n",
       "<style scoped>\n",
       "    .dataframe tbody tr th:only-of-type {\n",
       "        vertical-align: middle;\n",
       "    }\n",
       "\n",
       "    .dataframe tbody tr th {\n",
       "        vertical-align: top;\n",
       "    }\n",
       "\n",
       "    .dataframe thead th {\n",
       "        text-align: right;\n",
       "    }\n",
       "</style>\n",
       "<table border=\"1\" class=\"dataframe\">\n",
       "  <thead>\n",
       "    <tr style=\"text-align: right;\">\n",
       "      <th></th>\n",
       "      <th>Threshold</th>\n",
       "      <th>Accuracy</th>\n",
       "    </tr>\n",
       "  </thead>\n",
       "  <tbody>\n",
       "    <tr>\n",
       "      <th>85</th>\n",
       "      <td>5.577189e-01</td>\n",
       "      <td>0.713433</td>\n",
       "    </tr>\n",
       "    <tr>\n",
       "      <th>84</th>\n",
       "      <td>5.579511e-01</td>\n",
       "      <td>0.713433</td>\n",
       "    </tr>\n",
       "    <tr>\n",
       "      <th>86</th>\n",
       "      <td>5.563259e-01</td>\n",
       "      <td>0.710448</td>\n",
       "    </tr>\n",
       "    <tr>\n",
       "      <th>73</th>\n",
       "      <td>5.777179e-01</td>\n",
       "      <td>0.704478</td>\n",
       "    </tr>\n",
       "    <tr>\n",
       "      <th>83</th>\n",
       "      <td>5.646008e-01</td>\n",
       "      <td>0.704478</td>\n",
       "    </tr>\n",
       "    <tr>\n",
       "      <th>...</th>\n",
       "      <td>...</td>\n",
       "      <td>...</td>\n",
       "    </tr>\n",
       "    <tr>\n",
       "      <th>3</th>\n",
       "      <td>7.024075e-01</td>\n",
       "      <td>0.525373</td>\n",
       "    </tr>\n",
       "    <tr>\n",
       "      <th>2</th>\n",
       "      <td>7.061459e-01</td>\n",
       "      <td>0.522388</td>\n",
       "    </tr>\n",
       "    <tr>\n",
       "      <th>139</th>\n",
       "      <td>1.081520e-15</td>\n",
       "      <td>0.507463</td>\n",
       "    </tr>\n",
       "    <tr>\n",
       "      <th>1</th>\n",
       "      <td>7.407666e-01</td>\n",
       "      <td>0.495522</td>\n",
       "    </tr>\n",
       "    <tr>\n",
       "      <th>0</th>\n",
       "      <td>1.740767e+00</td>\n",
       "      <td>0.495522</td>\n",
       "    </tr>\n",
       "  </tbody>\n",
       "</table>\n",
       "<p>140 rows × 2 columns</p>\n",
       "</div>"
      ],
      "text/plain": [
       "        Threshold  Accuracy\n",
       "85   5.577189e-01  0.713433\n",
       "84   5.579511e-01  0.713433\n",
       "86   5.563259e-01  0.710448\n",
       "73   5.777179e-01  0.704478\n",
       "83   5.646008e-01  0.704478\n",
       "..            ...       ...\n",
       "3    7.024075e-01  0.525373\n",
       "2    7.061459e-01  0.522388\n",
       "139  1.081520e-15  0.507463\n",
       "1    7.407666e-01  0.495522\n",
       "0    1.740767e+00  0.495522\n",
       "\n",
       "[140 rows x 2 columns]"
      ]
     },
     "execution_count": 110,
     "metadata": {},
     "output_type": "execute_result"
    }
   ],
   "source": [
    "final_threshold.sort_values  (by = 'Accuracy',ascending=False)"
   ]
  },
  {
   "cell_type": "code",
   "execution_count": 111,
   "id": "2872472b",
   "metadata": {},
   "outputs": [],
   "source": [
    "from sklearn.preprocessing import binarize"
   ]
  },
  {
   "cell_type": "code",
   "execution_count": 113,
   "id": "44adcf5b",
   "metadata": {},
   "outputs": [
    {
     "data": {
      "text/plain": [
       "array([1., 1., 1., 1., 0., 1., 1., 1., 1., 1., 1., 1., 1., 0., 1., 0., 1.,\n",
       "       1., 1., 1., 1., 1., 0., 1., 1., 1., 1., 1., 1., 1., 1., 1., 1., 0.,\n",
       "       0., 1., 0., 1., 1., 1., 1., 0., 1., 1., 1., 0., 1., 1., 1., 1., 1.,\n",
       "       1., 1., 1., 1., 1., 0., 1., 0., 1., 0., 0., 1., 0., 0., 0., 1., 0.,\n",
       "       1., 0., 0., 0., 1., 1., 0., 1., 0., 1., 1., 1., 1., 1., 0., 1., 1.,\n",
       "       1., 0., 0., 1., 0., 1., 1., 0., 1., 1., 1., 1., 0., 0., 0., 0., 0.,\n",
       "       0., 1., 0., 0., 1., 1., 1., 0., 0., 1., 1., 1., 0., 0., 1., 1., 1.,\n",
       "       1., 0., 1., 1., 1., 1., 1., 0., 1., 1., 1., 0., 1., 1., 1., 0., 1.,\n",
       "       0., 1., 0., 1., 1., 1., 1., 1., 1., 1., 1., 0., 0., 0., 1., 0., 0.,\n",
       "       0., 0., 0., 0., 1., 1., 1., 1., 0., 1., 0., 1., 1., 0., 1., 1., 1.,\n",
       "       0., 1., 0., 1., 1., 1., 1., 1., 1., 1., 1., 1., 1., 0., 1., 0., 1.,\n",
       "       1., 1., 1., 1., 1., 0., 1., 1., 0., 0., 0., 1., 0., 1., 1., 1., 1.,\n",
       "       0., 1., 1., 1., 0., 1., 1., 1., 0., 1., 1., 1., 1., 1., 1., 1., 1.,\n",
       "       1., 1., 1., 0., 1., 0., 0., 1., 1., 1., 1., 1., 0., 0., 1., 1., 1.,\n",
       "       0., 1., 1., 1., 1., 1., 0., 0., 1., 1., 1., 0., 0., 1., 0., 0., 0.,\n",
       "       1., 0., 1., 0., 0., 0., 1., 0., 1., 1., 1., 0., 1., 0., 0., 1., 1.,\n",
       "       1., 1., 1., 1., 1., 0., 0., 0., 0., 0., 1., 1., 0., 1., 1., 0., 0.,\n",
       "       1., 1., 0., 1., 1., 1., 1., 1., 1., 0., 1., 1., 0., 1., 1., 1., 0.,\n",
       "       1., 0., 0., 1., 0., 1., 1., 0., 1., 1., 1., 1., 0., 0., 0., 1., 1.,\n",
       "       0., 0., 0., 0., 1., 0., 0., 1., 1., 0., 1., 1.])"
      ]
     },
     "execution_count": 113,
     "metadata": {},
     "output_type": "execute_result"
    }
   ],
   "source": [
    "y = binarize([proba],threshold = 0.442068)[0]\n",
    "y"
   ]
  },
  {
   "cell_type": "code",
   "execution_count": 115,
   "id": "0d88ba64",
   "metadata": {},
   "outputs": [
    {
     "name": "stdout",
     "output_type": "stream",
     "text": [
      "              precision    recall  f1-score   support\n",
      "\n",
      "           0       0.73      0.51      0.60       166\n",
      "           1       0.63      0.82      0.71       169\n",
      "\n",
      "    accuracy                           0.67       335\n",
      "   macro avg       0.68      0.66      0.66       335\n",
      "weighted avg       0.68      0.67      0.66       335\n",
      "\n"
     ]
    }
   ],
   "source": [
    "print(classification_report(ytest,y))"
   ]
  },
  {
   "cell_type": "code",
   "execution_count": null,
   "id": "66dfad0b",
   "metadata": {},
   "outputs": [],
   "source": []
  }
 ],
 "metadata": {
  "kernelspec": {
   "display_name": "Python 3 (ipykernel)",
   "language": "python",
   "name": "python3"
  },
  "language_info": {
   "codemirror_mode": {
    "name": "ipython",
    "version": 3
   },
   "file_extension": ".py",
   "mimetype": "text/x-python",
   "name": "python",
   "nbconvert_exporter": "python",
   "pygments_lexer": "ipython3",
   "version": "3.9.12"
  }
 },
 "nbformat": 4,
 "nbformat_minor": 5
}
